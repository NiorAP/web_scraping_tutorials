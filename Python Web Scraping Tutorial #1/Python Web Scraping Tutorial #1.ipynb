{
 "cells": [
  {
   "cell_type": "markdown",
   "metadata": {
    "colab_type": "text",
    "id": "A-xKRTm4Nfw5"
   },
   "source": [
    "# Python Web Scraping Tutorial #1: ใช้ Pandas ดึงข้อมูลที่เป็นตารางจากหน้า Website"
   ]
  },
  {
   "cell_type": "markdown",
   "metadata": {},
   "source": [
    "by Nior Atthakorn"
   ]
  },
  {
   "cell_type": "markdown",
   "metadata": {
    "colab_type": "text",
    "id": "8uSnjUpYYu8e"
   },
   "source": [
    "การใช้ [Python](https://www.python.org) ดึงข้อมูลจาก website สามารถทำได้หลายวิธี มี library ที่หลากหลายมากมายให้เลือกใช้ตามสะดวก ขึ้นอยู่กับว่ารูปแบบของความต้องการใช้งานในตอนนั้นเป็นยังไง\n",
    "\n",
    "ในบทความนี้เราจะใช้แค่ [Pandas](https://pandas.pydata.org) ที่เป็น library ซึ่งเรานิยมใช้ในการ manipulate data กัน มาทำ Web Scraping ซึ่งจะเหมาะกับหน้า website แบบไหน และมีขั้นตอนวิธีการทำยังไง ก็เชิญอ่านต่อได้ทางด้านล่างนี้เลย หรือถ้าใครสะดวกช่องทางอื่น ก็สามารถตาม link ด้านล่างนี้ไปได้เลยจ้า เอ้า เริ่ม!"
   ]
  },
  {
   "cell_type": "markdown",
   "metadata": {
    "colab_type": "text",
    "id": "qpCMEwUZlPc-"
   },
   "source": [
    "<table align=\"center\">\n",
    "    <td>\n",
    "        <a href=\"https://github.com/NiorAP/web_scraping_tutorials/blob/master/Python%20Web%20Scraping%20Tutorial%20%231/Python%20Web%20Scraping%20Tutorial%20%231.ipynb\">\n",
    "            <img src=\"https://pngimg.com/uploads/github/github_PNG58.png\" width=\"100\"/>\n",
    "            <center>\n",
    "                ดูใน GitHub\n",
    "            </center>\n",
    "        </a>\n",
    "    </td>\n",
    "    <td>\n",
    "        <a href=\"https://colab.research.google.com/drive/1XRVgggQDU05vXk3QxVj48xXL-QiNG_1F\">\n",
    "            <img src=\"https://colab.research.google.com/img/colab_favicon_256px.png\" width=\"100\"/>\n",
    "            <center>\n",
    "                ลองเล่นใน Google Colab\n",
    "            </center>\n",
    "        </a>\n",
    "    </td>\n",
    "    <td>\n",
    "        <a href=\"https://medium.com/@nioratthakorn/python-web-scraping-tutorial-1-9cba93ac2690\">\n",
    "            <img src=\"https://cdn4.iconfinder.com/data/icons/vector-brand-logos/40/Medium-512.png\"/ width=\"100\">\n",
    "            <center>\n",
    "                อ่านใน Medium\n",
    "            </center>\n",
    "        </a>\n",
    "    </td>\n",
    "</table>"
   ]
  },
  {
   "cell_type": "markdown",
   "metadata": {
    "colab_type": "text",
    "id": "yrJrvbCyYu8g"
   },
   "source": [
    "การใช้ Pandas ในการทำ Web Scraping มีความสามารถที่จำกัด แต่ถ้าข้อมูลที่เราต้องการนั้นอยู่ในรูปแบบที่สามารถใช้ Pandas ได้ จะสามารถทำการ scrape ได้สะดวกมากๆๆๆๆ\n",
    "\n",
    "ตัว Pandas อย่างที่เรารู้กันคือมีตัวชูโรงเป็น [DataFrame](https://pandas.pydata.org/pandas-docs/stable/reference/api/pandas.DataFrame.html) ซึ่งมีลักษณะการเก็บข้อมูลเป็นตาราง เพราะฉะนั้นหน้า website ที่เหมาะจะใช้ Pandas ในการ Scrape ก็คือ website ที่มีข้อมูลที่เราต้องการอยู่ในรูปแบบตารางนั่นเองงงง\n",
    "\n",
    "รู้งี้แล้ว ลองดูหน้า website ที่เราต้องการ scrape ว่าข้อมูลส่วนที่เราอยากได้เป็นตารางมั้ย ถ้าใช่ก็ลุยโลดดดด"
   ]
  },
  {
   "cell_type": "markdown",
   "metadata": {
    "colab_type": "text",
    "id": "qrqWvAiGNmxz"
   },
   "source": [
    "<b><i>ขั้นตอนที่ 1</i></b> ตามปกติสามัญสากลโลกเลยครับ เราเริ่มจากการ [`import`](https://docs.python.org/2.0/ref/import.html) library ที่จะใช้ ในที่นี้จะใช้ Pandas เพียงอย่างเดียว ก็จัดการ `import` เข้ามาเลย"
   ]
  },
  {
   "cell_type": "code",
   "execution_count": 1,
   "metadata": {
    "colab": {},
    "colab_type": "code",
    "id": "N_n2HMaPxmb1"
   },
   "outputs": [],
   "source": [
    "import pandas as pd"
   ]
  },
  {
   "cell_type": "markdown",
   "metadata": {
    "colab_type": "text",
    "id": "hM-x-CLSN5CX"
   },
   "source": [
    "<b><i>ขั้นตอนที่ 2</i></b> ให้เราใส่ url ของ website ที่เราต้องการ scrape โดย url ต้องเป็นภาษาอังกฤษเท่านั้น (ถ้า url มีภาษาไทย ใช้ไม่ได้) ในที่นี้จะใช้ website [ราคาหลักทรัพย์ใน SET50](https://marketdata.set.or.th/mkt/sectorquotation.do?sector=SET50&language=th&country=TH) ของ [set.or.th](https://www.set.or.th/) ต้องขออนุญาตและขอขอบคุณมา ณ ที่นี้ด้วยนะครับ -/\\\\- (ถ้าใครสงสัยเรื่อง url สามารถอ่านเพิ่มเติมได้[ในนี้](https://pandas.pydata.org/pandas-docs/version/0.23.4/generated/pandas.read_html.html)เลย)"
   ]
  },
  {
   "cell_type": "code",
   "execution_count": 2,
   "metadata": {
    "colab": {},
    "colab_type": "code",
    "id": "cy0TUWwuy96X"
   },
   "outputs": [],
   "source": [
    "url = 'https://marketdata.set.or.th/mkt/' \\\n",
    "    + 'sectorquotation.do?sector=SET50&language=th&country=TH'"
   ]
  },
  {
   "cell_type": "markdown",
   "metadata": {
    "colab_type": "text",
    "id": "uay92OIhYu8u"
   },
   "source": [
    "เนื่องจาก url ยาว เลยเขียนแยกเป็น 2 ท่อน ไม่ต้องตกใจไปจ้า"
   ]
  },
  {
   "cell_type": "markdown",
   "metadata": {
    "colab_type": "text",
    "id": "6c6ti7D1Vlsp"
   },
   "source": [
    "<b><i>ขั้นตอนที่ 3</i></b> ให้เราใช้ function [`read_html`](https://pandas.pydata.org/pandas-docs/version/0.23.4/generated/pandas.read_html.html) ของ Pandas ซึ่งโดยปกติแล้วสามารถรับ parameter ได้หลากหลายรูปแบบ ซึ่งรูปแบบที่เราจะใช้ในวันนี้คือการใส่ url ของหน้า website ที่เราต้องการ scrape เข้าไปโดยตรง จากนั้นตัว function จะไปดึงข้อมูลทั้งหมดจาก website นั้นๆ แล้ว scan ดูทั้งหน้าว่ามีตารางอยู่ตรงไหนบ้าง แปลงแต่ละตารางเป็น DataFrame แล้วใส่ไว้ใน list ให้เราเลย สะดวกมากกกก"
   ]
  },
  {
   "cell_type": "code",
   "execution_count": 3,
   "metadata": {
    "colab": {},
    "colab_type": "code",
    "id": "1_JtXSRfy99W"
   },
   "outputs": [],
   "source": [
    "dfs = pd.read_html(url)"
   ]
  },
  {
   "cell_type": "markdown",
   "metadata": {
    "colab_type": "text",
    "id": "7q-_zttjYu8y"
   },
   "source": [
    "แค่นี้ก็จบขั้นตอนการ scrape แล้ว มาลองดูผลลัพธ์กันสักหน่อยละกัน"
   ]
  },
  {
   "cell_type": "markdown",
   "metadata": {
    "colab_type": "text",
    "id": "JLmIsDVIW1Yy"
   },
   "source": [
    "ก่อนอื่นลองดูว่าจำนวนตารางที่ได้ตรงกับในหน้า website ที่เราเห็นมั้ย"
   ]
  },
  {
   "cell_type": "code",
   "execution_count": 4,
   "metadata": {
    "colab": {
     "base_uri": "https://localhost:8080/",
     "height": 34
    },
    "colab_type": "code",
    "executionInfo": {
     "elapsed": 3478,
     "status": "ok",
     "timestamp": 1586337286165,
     "user": {
      "displayName": "Atthakorn Petchsod",
      "photoUrl": "",
      "userId": "05623350520098048905"
     },
     "user_tz": -420
    },
    "id": "8iL-ktPa03Nf",
    "outputId": "591fc133-d295-43d5-ed4e-325f810b91c5"
   },
   "outputs": [
    {
     "data": {
      "text/plain": [
       "3"
      ]
     },
     "execution_count": 4,
     "metadata": {},
     "output_type": "execute_result"
    }
   ],
   "source": [
    "len(dfs)"
   ]
  },
  {
   "cell_type": "markdown",
   "metadata": {
    "colab_type": "text",
    "id": "0dieZnHqYu83"
   },
   "source": [
    "จะเห็นว่ามี 3 ตาราง ครบตามต้องการพอดิบพอดีเลย"
   ]
  },
  {
   "cell_type": "markdown",
   "metadata": {
    "colab_type": "text",
    "id": "4UMbINzRXSWQ"
   },
   "source": [
    "ลองมาดูส่วนหนึ่งของแต่ละตารางที่ได้กันบ้าง ว่าตรงกับในหน้า website ที่เห็นมั้ย"
   ]
  },
  {
   "cell_type": "code",
   "execution_count": 5,
   "metadata": {
    "colab": {
     "base_uri": "https://localhost:8080/",
     "height": 221
    },
    "colab_type": "code",
    "executionInfo": {
     "elapsed": 3472,
     "status": "ok",
     "timestamp": 1586337286165,
     "user": {
      "displayName": "Atthakorn Petchsod",
      "photoUrl": "",
      "userId": "05623350520098048905"
     },
     "user_tz": -420
    },
    "id": "exyzIXAG6Rxy",
    "outputId": "7696f4e7-48b9-4bfc-8db1-24bab690eabd"
   },
   "outputs": [
    {
     "data": {
      "text/html": [
       "<div>\n",
       "<style scoped>\n",
       "    .dataframe tbody tr th:only-of-type {\n",
       "        vertical-align: middle;\n",
       "    }\n",
       "\n",
       "    .dataframe tbody tr th {\n",
       "        vertical-align: top;\n",
       "    }\n",
       "\n",
       "    .dataframe thead th {\n",
       "        text-align: right;\n",
       "    }\n",
       "</style>\n",
       "<table border=\"1\" class=\"dataframe\">\n",
       "  <thead>\n",
       "    <tr style=\"text-align: right;\">\n",
       "      <th></th>\n",
       "      <th>ดัชนี</th>\n",
       "      <th>ล่าสุด</th>\n",
       "      <th>เปลี่ยนแปลง</th>\n",
       "      <th>%เปลี่ยนแปลง</th>\n",
       "      <th>สูงสุด</th>\n",
       "      <th>ต่ำสุด</th>\n",
       "      <th>ปริมาณ('000 หุ้น)</th>\n",
       "      <th>มูลค่า(ล้านบาท)</th>\n",
       "    </tr>\n",
       "  </thead>\n",
       "  <tbody>\n",
       "    <tr>\n",
       "      <td>0</td>\n",
       "      <td>SET</td>\n",
       "      <td>1206.87</td>\n",
       "      <td>-8.08</td>\n",
       "      <td>-0.66</td>\n",
       "      <td>1213.55</td>\n",
       "      <td>1192.98</td>\n",
       "      <td>14507999</td>\n",
       "      <td>86680.21</td>\n",
       "    </tr>\n",
       "    <tr>\n",
       "      <td>1</td>\n",
       "      <td>SET50</td>\n",
       "      <td>815.97</td>\n",
       "      <td>-9.45</td>\n",
       "      <td>-1.14</td>\n",
       "      <td>823.28</td>\n",
       "      <td>805.74</td>\n",
       "      <td>2382569</td>\n",
       "      <td>62515.32</td>\n",
       "    </tr>\n",
       "    <tr>\n",
       "      <td>2</td>\n",
       "      <td>SET100</td>\n",
       "      <td>1782.56</td>\n",
       "      <td>-16.36</td>\n",
       "      <td>-0.91</td>\n",
       "      <td>1796.64</td>\n",
       "      <td>1759.83</td>\n",
       "      <td>3586410</td>\n",
       "      <td>68925.09</td>\n",
       "    </tr>\n",
       "    <tr>\n",
       "      <td>3</td>\n",
       "      <td>sSET</td>\n",
       "      <td>482.62</td>\n",
       "      <td>8.23</td>\n",
       "      <td>1.73</td>\n",
       "      <td>484.89</td>\n",
       "      <td>473.14</td>\n",
       "      <td>816989</td>\n",
       "      <td>1567.32</td>\n",
       "    </tr>\n",
       "    <tr>\n",
       "      <td>4</td>\n",
       "      <td>SETCLMV</td>\n",
       "      <td>749.28</td>\n",
       "      <td>-9.15</td>\n",
       "      <td>-1.21</td>\n",
       "      <td>757.38</td>\n",
       "      <td>741.32</td>\n",
       "      <td>696288</td>\n",
       "      <td>17886.27</td>\n",
       "    </tr>\n",
       "  </tbody>\n",
       "</table>\n",
       "</div>"
      ],
      "text/plain": [
       "     ดัชนี   ล่าสุด  เปลี่ยนแปลง  %เปลี่ยนแปลง   สูงสุด   ต่ำสุด  \\\n",
       "0      SET  1206.87        -8.08         -0.66  1213.55  1192.98   \n",
       "1    SET50   815.97        -9.45         -1.14   823.28   805.74   \n",
       "2   SET100  1782.56       -16.36         -0.91  1796.64  1759.83   \n",
       "3     sSET   482.62         8.23          1.73   484.89   473.14   \n",
       "4  SETCLMV   749.28        -9.15         -1.21   757.38   741.32   \n",
       "\n",
       "   ปริมาณ('000 หุ้น)  มูลค่า(ล้านบาท)  \n",
       "0           14507999         86680.21  \n",
       "1            2382569         62515.32  \n",
       "2            3586410         68925.09  \n",
       "3             816989          1567.32  \n",
       "4             696288         17886.27  "
      ]
     },
     "execution_count": 5,
     "metadata": {},
     "output_type": "execute_result"
    }
   ],
   "source": [
    "dfs[0].head()"
   ]
  },
  {
   "cell_type": "code",
   "execution_count": 6,
   "metadata": {
    "colab": {
     "base_uri": "https://localhost:8080/",
     "height": 80
    },
    "colab_type": "code",
    "executionInfo": {
     "elapsed": 3467,
     "status": "ok",
     "timestamp": 1586337286166,
     "user": {
      "displayName": "Atthakorn Petchsod",
      "photoUrl": "",
      "userId": "05623350520098048905"
     },
     "user_tz": -420
    },
    "id": "ONnV7ABw68b4",
    "outputId": "2d1acbeb-c0e2-432c-9c70-c9d5551275b8",
    "scrolled": true
   },
   "outputs": [
    {
     "data": {
      "text/html": [
       "<div>\n",
       "<style scoped>\n",
       "    .dataframe tbody tr th:only-of-type {\n",
       "        vertical-align: middle;\n",
       "    }\n",
       "\n",
       "    .dataframe tbody tr th {\n",
       "        vertical-align: top;\n",
       "    }\n",
       "\n",
       "    .dataframe thead th {\n",
       "        text-align: right;\n",
       "    }\n",
       "</style>\n",
       "<table border=\"1\" class=\"dataframe\">\n",
       "  <thead>\n",
       "    <tr style=\"text-align: right;\">\n",
       "      <th></th>\n",
       "      <th>ดัชนี</th>\n",
       "      <th>ล่าสุด</th>\n",
       "      <th>เปลี่ยนแปลง</th>\n",
       "      <th>%เปลี่ยนแปลง</th>\n",
       "      <th>ปริมาณ(หุ้น)</th>\n",
       "      <th>มูลค่า('000 บาท)</th>\n",
       "    </tr>\n",
       "  </thead>\n",
       "  <tbody>\n",
       "    <tr>\n",
       "      <td>0</td>\n",
       "      <td>SET50</td>\n",
       "      <td>815.97</td>\n",
       "      <td>-9.45</td>\n",
       "      <td>-1.14</td>\n",
       "      <td>2382568956</td>\n",
       "      <td>62515315.87</td>\n",
       "    </tr>\n",
       "  </tbody>\n",
       "</table>\n",
       "</div>"
      ],
      "text/plain": [
       "   ดัชนี  ล่าสุด  เปลี่ยนแปลง  %เปลี่ยนแปลง  ปริมาณ(หุ้น)  มูลค่า('000 บาท)\n",
       "0  SET50  815.97        -9.45         -1.14    2382568956       62515315.87"
      ]
     },
     "execution_count": 6,
     "metadata": {},
     "output_type": "execute_result"
    }
   ],
   "source": [
    "dfs[1].head()"
   ]
  },
  {
   "cell_type": "code",
   "execution_count": 7,
   "metadata": {
    "colab": {
     "base_uri": "https://localhost:8080/",
     "height": 241
    },
    "colab_type": "code",
    "executionInfo": {
     "elapsed": 3462,
     "status": "ok",
     "timestamp": 1586337286166,
     "user": {
      "displayName": "Atthakorn Petchsod",
      "photoUrl": "",
      "userId": "05623350520098048905"
     },
     "user_tz": -420
    },
    "id": "5qDXG_KF692x",
    "outputId": "23fdd48a-6856-4bae-bc0c-65ff1cb321fe",
    "scrolled": true
   },
   "outputs": [
    {
     "data": {
      "text/html": [
       "<div>\n",
       "<style scoped>\n",
       "    .dataframe tbody tr th:only-of-type {\n",
       "        vertical-align: middle;\n",
       "    }\n",
       "\n",
       "    .dataframe tbody tr th {\n",
       "        vertical-align: top;\n",
       "    }\n",
       "\n",
       "    .dataframe thead th {\n",
       "        text-align: right;\n",
       "    }\n",
       "</style>\n",
       "<table border=\"1\" class=\"dataframe\">\n",
       "  <thead>\n",
       "    <tr style=\"text-align: right;\">\n",
       "      <th></th>\n",
       "      <th>หลักทรัพย์</th>\n",
       "      <th>เครื่องหมาย</th>\n",
       "      <th>เปิด</th>\n",
       "      <th>สูงสุด</th>\n",
       "      <th>ต่ำสุด</th>\n",
       "      <th>ล่าสุด</th>\n",
       "      <th>เปลี่ยนแปลง</th>\n",
       "      <th>%เปลี่ยนแปลง</th>\n",
       "      <th>เสนอซื้อ</th>\n",
       "      <th>เสนอขาย</th>\n",
       "      <th>ปริมาณ(หุ้น)</th>\n",
       "      <th>มูลค่า('000 บาท)</th>\n",
       "    </tr>\n",
       "  </thead>\n",
       "  <tbody>\n",
       "    <tr>\n",
       "      <td>0</td>\n",
       "      <td>ADVANC</td>\n",
       "      <td>NaN</td>\n",
       "      <td>193.00</td>\n",
       "      <td>193.50</td>\n",
       "      <td>186.50</td>\n",
       "      <td>187.50</td>\n",
       "      <td>-7.50</td>\n",
       "      <td>-3.85</td>\n",
       "      <td>187.50</td>\n",
       "      <td>188.00</td>\n",
       "      <td>22318339</td>\n",
       "      <td>4215918.54</td>\n",
       "    </tr>\n",
       "    <tr>\n",
       "      <td>1</td>\n",
       "      <td>AOT</td>\n",
       "      <td>NaN</td>\n",
       "      <td>57.25</td>\n",
       "      <td>57.25</td>\n",
       "      <td>55.00</td>\n",
       "      <td>56.50</td>\n",
       "      <td>-1.00</td>\n",
       "      <td>-1.74</td>\n",
       "      <td>56.50</td>\n",
       "      <td>56.75</td>\n",
       "      <td>46898780</td>\n",
       "      <td>2623660.91</td>\n",
       "    </tr>\n",
       "    <tr>\n",
       "      <td>2</td>\n",
       "      <td>AWC</td>\n",
       "      <td>NaN</td>\n",
       "      <td>4.16</td>\n",
       "      <td>4.40</td>\n",
       "      <td>4.12</td>\n",
       "      <td>4.14</td>\n",
       "      <td>+0.10</td>\n",
       "      <td>+2.48</td>\n",
       "      <td>4.14</td>\n",
       "      <td>4.16</td>\n",
       "      <td>76796973</td>\n",
       "      <td>326674.46</td>\n",
       "    </tr>\n",
       "    <tr>\n",
       "      <td>3</td>\n",
       "      <td>BANPU</td>\n",
       "      <td>NaN</td>\n",
       "      <td>6.10</td>\n",
       "      <td>6.15</td>\n",
       "      <td>5.90</td>\n",
       "      <td>6.05</td>\n",
       "      <td>-0.20</td>\n",
       "      <td>-3.20</td>\n",
       "      <td>6.00</td>\n",
       "      <td>6.05</td>\n",
       "      <td>35257616</td>\n",
       "      <td>212272.91</td>\n",
       "    </tr>\n",
       "    <tr>\n",
       "      <td>4</td>\n",
       "      <td>BBL</td>\n",
       "      <td>NaN</td>\n",
       "      <td>99.75</td>\n",
       "      <td>107.00</td>\n",
       "      <td>98.00</td>\n",
       "      <td>105.50</td>\n",
       "      <td>+5.00</td>\n",
       "      <td>+4.98</td>\n",
       "      <td>105.00</td>\n",
       "      <td>105.50</td>\n",
       "      <td>20737751</td>\n",
       "      <td>2126183.64</td>\n",
       "    </tr>\n",
       "  </tbody>\n",
       "</table>\n",
       "</div>"
      ],
      "text/plain": [
       "  หลักทรัพย์ เครื่องหมาย    เปิด  สูงสุด  ต่ำสุด  ล่าสุด เปลี่ยนแปลง  \\\n",
       "0     ADVANC         NaN  193.00  193.50  186.50  187.50       -7.50   \n",
       "1        AOT         NaN   57.25   57.25   55.00   56.50       -1.00   \n",
       "2        AWC         NaN    4.16    4.40    4.12    4.14       +0.10   \n",
       "3      BANPU         NaN    6.10    6.15    5.90    6.05       -0.20   \n",
       "4        BBL         NaN   99.75  107.00   98.00  105.50       +5.00   \n",
       "\n",
       "  %เปลี่ยนแปลง  เสนอซื้อ  เสนอขาย  ปริมาณ(หุ้น)  มูลค่า('000 บาท)  \n",
       "0        -3.85    187.50   188.00      22318339        4215918.54  \n",
       "1        -1.74     56.50    56.75      46898780        2623660.91  \n",
       "2        +2.48      4.14     4.16      76796973         326674.46  \n",
       "3        -3.20      6.00     6.05      35257616         212272.91  \n",
       "4        +4.98    105.00   105.50      20737751        2126183.64  "
      ]
     },
     "execution_count": 7,
     "metadata": {},
     "output_type": "execute_result"
    }
   ],
   "source": [
    "dfs[2].head()"
   ]
  },
  {
   "cell_type": "markdown",
   "metadata": {
    "colab_type": "text",
    "id": "o2aBdokFYu8-"
   },
   "source": [
    "โอ้โหเฮ๊ะ เหมือนเป๊ะอย่างกะจับวาง"
   ]
  },
  {
   "cell_type": "markdown",
   "metadata": {
    "colab_type": "text",
    "id": "bHj_tYLAYu8-"
   },
   "source": [
    "เป็นไงกันบ้างครับกับการทำ Web Scraping ด้วย Pandas ง่ายใช่ไหมหล่ะครับ แต่ก็ยังมีเงื่อนไขในการใช้งานเยอะเลย\n",
    "\n",
    "เราจะแก้ปัญหาพวกนั้นยังไง ใช้เครื่องมืออะไร ติดตามตอนต่อไปได้ที่นี่เลย:  \n",
    "[Python Web Scraping Tutorial #2: ใช้ Requests มาช่วย Pandas ดึงข้อมูล](https://medium.com/@nioratthakorn/python-web-scraping-tutorial-2-7a8d09a36093)\n",
    "\n",
    "สำหรับวันนี้ไปก่อนละจ้า บายยยย"
   ]
  }
 ],
 "metadata": {
  "colab": {
   "collapsed_sections": [],
   "name": "Python Web Scraping Tutorial #1.ipynb",
   "provenance": []
  },
  "kernelspec": {
   "display_name": "Python 3",
   "language": "python",
   "name": "python3"
  },
  "language_info": {
   "codemirror_mode": {
    "name": "ipython",
    "version": 3
   },
   "file_extension": ".py",
   "mimetype": "text/x-python",
   "name": "python",
   "nbconvert_exporter": "python",
   "pygments_lexer": "ipython3",
   "version": "3.7.4"
  },
  "toc": {
   "base_numbering": 1,
   "nav_menu": {},
   "number_sections": true,
   "sideBar": true,
   "skip_h1_title": true,
   "title_cell": "Table of Contents",
   "title_sidebar": "Contents",
   "toc_cell": false,
   "toc_position": {
    "height": "calc(100% - 180px)",
    "left": "10px",
    "top": "150px",
    "width": "168.1875px"
   },
   "toc_section_display": true,
   "toc_window_display": false
  }
 },
 "nbformat": 4,
 "nbformat_minor": 1
}
